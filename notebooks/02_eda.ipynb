{
 "cells": [
  {
   "cell_type": "code",
   "execution_count": null,
   "id": "d725ca89",
   "metadata": {
    "lines_to_next_cell": 0
   },
   "outputs": [],
   "source": [
    "\"\"\"\n",
    "02 Exploratory Data Analysis (EDA)\n",
    "Visualize and summarize the cleaned employee attrition data.\n",
    "\"\"\""
   ]
  },
  {
   "cell_type": "code",
   "execution_count": null,
   "id": "9171cbd8",
   "metadata": {
    "lines_to_next_cell": 0
   },
   "outputs": [],
   "source": [
    "from src.eda_tools import plot_attrition_by_category, create_correlation_heatmap, plot_satisfaction_distribution, perform_eda, \\\n",
    "    get_numeric_summary, get_categorical_summary, get_value_counts, get_missing_values, t_test_by_attrition, chi_square_test, correlation_test, \\\n",
    "    plot_histograms, plot_boxplots_by_attrition, plot_barplots_for_categorical, plot_stacked_bar_chart, plot_pairplot, plot_violin_by_attrition, plot_categorical_heatmap\n",
    "import pandas as pd\n",
    "from IPython.display import display\n",
    "from IPython.display import Markdown"
   ]
  },
  {
   "cell_type": "code",
   "execution_count": null,
   "id": "ed4bf476",
   "metadata": {
    "lines_to_next_cell": 0
   },
   "outputs": [],
   "source": [
    "display(Markdown(\"\"\"\n",
    "# Exploratory Data Analysis (EDA)\n",
    "This notebook explores and visualizes the cleaned employee attrition dataset. We will summarize the data, visualize key patterns, and perform basic statistical tests to understand attrition drivers.\n",
    "\"\"\"))"
   ]
  },
  {
   "cell_type": "code",
   "execution_count": null,
   "id": "952932e0",
   "metadata": {
    "lines_to_next_cell": 0
   },
   "outputs": [],
   "source": [
    "display(Markdown(\"\"\"\n",
    "## Data Preview\n",
    "Let's load and preview the cleaned dataset to understand its structure and contents.\n",
    "\"\"\"))"
   ]
  },
  {
   "cell_type": "code",
   "execution_count": null,
   "id": "496f3cf0",
   "metadata": {
    "lines_to_next_cell": 0
   },
   "outputs": [],
   "source": [
    "# Load feature-engineered data for EDA\n",
    "clean_df = pd.read_csv('data/employee_data_features.csv')\n",
    "clean_df.head()"
   ]
  },
  {
   "cell_type": "code",
   "execution_count": null,
   "id": "04aa7354",
   "metadata": {
    "lines_to_next_cell": 0
   },
   "outputs": [],
   "source": [
    "display(Markdown(\"\"\"\n",
    "## Attrition by Department\n",
    "This chart shows the distribution of attrition across different departments, helping us identify which departments have higher attrition rates.\n",
    "\"\"\"))\n",
    "# Plot attrition by Department\n",
    "chart_dept = plot_attrition_by_category(clean_df, 'Department')\n",
    "chart_dept.display()\n",
    "chart_dept.save('eda_outputs/attrition_by_department.png')"
   ]
  },
  {
   "cell_type": "code",
   "execution_count": null,
   "id": "29d85dbf",
   "metadata": {
    "lines_to_next_cell": 0
   },
   "outputs": [],
   "source": [
    "display(Markdown(\"\"\"\n",
    "## Correlation Heatmap\n",
    "The correlation heatmap visualizes relationships between numeric features, highlighting which variables are strongly correlated.\n",
    "\"\"\"))\n",
    "# Plot correlation heatmap\n",
    "chart_corr = create_correlation_heatmap(clean_df)\n",
    "chart_corr.display()\n",
    "chart_corr.save('eda_outputs/correlation_heatmap.png')"
   ]
  },
  {
   "cell_type": "code",
   "execution_count": null,
   "id": "0eda0503",
   "metadata": {
    "lines_to_next_cell": 0
   },
   "outputs": [],
   "source": [
    "display(Markdown(\"\"\"\n",
    "## Satisfaction Distribution by Attrition\n",
    "This boxplot compares overall satisfaction scores between employees who left and those who stayed.\n",
    "\"\"\"))\n",
    "# Plot satisfaction distribution\n",
    "chart_sat = plot_satisfaction_distribution(clean_df)\n",
    "chart_sat.display()\n",
    "chart_sat.save('eda_outputs/satisfaction_distribution.png')"
   ]
  },
  {
   "cell_type": "code",
   "execution_count": null,
   "id": "0c8763c8",
   "metadata": {
    "lines_to_next_cell": 0
   },
   "outputs": [],
   "source": [
    "display(Markdown(\"\"\"\n",
    "## All EDA Charts\n",
    "Below are additional EDA charts for other key categories and features.\n",
    "\"\"\"))\n",
    "# Perform full EDA (all charts)\n",
    "charts = perform_eda(clean_df)\n",
    "for name, chart in charts.items():\n",
    "    print(name)\n",
    "    chart.display()\n",
    "    chart.save(f'eda_outputs/{name}.png')"
   ]
  },
  {
   "cell_type": "code",
   "execution_count": null,
   "id": "296fd709",
   "metadata": {
    "lines_to_next_cell": 0
   },
   "outputs": [],
   "source": [
    "display(Markdown(\"\"\"\n",
    "## Descriptive Statistics\n",
    "We summarize the dataset with numeric and categorical statistics, value counts, and missing value analysis.\n",
    "\"\"\"))"
   ]
  },
  {
   "cell_type": "code",
   "execution_count": null,
   "id": "aa998ad9",
   "metadata": {
    "lines_to_next_cell": 0
   },
   "outputs": [],
   "source": [
    "display(Markdown(\"\"\"\n",
    "### Numeric Summary\n",
    "Describes the central tendency and spread of numeric features.\n",
    "\"\"\"))\n",
    "# Descriptive statistics: Numeric summary\n",
    "print('Numeric Summary:')\n",
    "numeric_summary = get_numeric_summary(clean_df)\n",
    "display(numeric_summary)\n",
    "numeric_summary.to_csv('results/numeric_summary.csv')"
   ]
  },
  {
   "cell_type": "code",
   "execution_count": null,
   "id": "8ac07b61",
   "metadata": {
    "lines_to_next_cell": 0
   },
   "outputs": [],
   "source": [
    "display(Markdown(\"\"\"\n",
    "### Categorical Summary\n",
    "Shows the frequency and diversity of values in categorical features.\n",
    "\"\"\"))\n",
    "# Descriptive statistics: Categorical summary\n",
    "print('Categorical Summary:')\n",
    "categorical_summary = get_categorical_summary(clean_df)\n",
    "display(categorical_summary)\n",
    "categorical_summary.to_csv('results/categorical_summary.csv')"
   ]
  },
  {
   "cell_type": "code",
   "execution_count": null,
   "id": "66a6733f",
   "metadata": {
    "lines_to_next_cell": 0
   },
   "outputs": [],
   "source": [
    "display(Markdown(\"\"\"\n",
    "### Value Counts\n",
    "Frequency of each category in categorical columns.\n",
    "\"\"\"))\n",
    "# Value counts for categorical columns\n",
    "print('Value Counts:')\n",
    "value_counts = get_value_counts(clean_df)\n",
    "with open('results/value_counts.md', 'w') as f:\n",
    "    f.write('# Value Counts\\n')\n",
    "    for col, counts in value_counts.items():\n",
    "        f.write(f'\\n## {col}\\n')\n",
    "        f.write(counts.to_markdown())\n",
    "        f.write('\\n')\n",
    "for col, counts in value_counts.items():\n",
    "    print(f'\\n{col}:')\n",
    "    print(counts)"
   ]
  },
  {
   "cell_type": "code",
   "execution_count": null,
   "id": "fa0cfa68",
   "metadata": {
    "lines_to_next_cell": 0
   },
   "outputs": [],
   "source": [
    "display(Markdown(\"\"\"\n",
    "### Missing Values\n",
    "Count and percentage of missing values per column.\n",
    "\"\"\"))\n",
    "# Missing values\n",
    "print('Missing Values:')\n",
    "missing_values = get_missing_values(clean_df)\n",
    "display(missing_values)\n",
    "missing_values.to_csv('results/missing_values.csv')"
   ]
  },
  {
   "cell_type": "code",
   "execution_count": null,
   "id": "a06525e6",
   "metadata": {
    "lines_to_next_cell": 0
   },
   "outputs": [],
   "source": [
    "display(Markdown(\"\"\"\n",
    "## Inferential Statistics\n",
    "We use statistical tests to compare groups and assess relationships between features.\n",
    "\"\"\"))"
   ]
  },
  {
   "cell_type": "code",
   "execution_count": null,
   "id": "2f789cf8",
   "metadata": {
    "lines_to_next_cell": 0
   },
   "outputs": [],
   "source": [
    "display(Markdown(\"\"\"\n",
    "### T-test: MonthlyIncome by Attrition\n",
    "Tests if the average monthly income differs between employees who left and those who stayed.\n",
    "\"\"\"))\n",
    "# Inferential statistics: T-test for MonthlyIncome by Attrition\n",
    "if 'MonthlyIncome' in clean_df.columns and 'Attrition' in clean_df.columns:\n",
    "    ttest_result = t_test_by_attrition(clean_df, 'MonthlyIncome')\n",
    "    print('T-test for MonthlyIncome by Attrition:', ttest_result)\n",
    "    with open('results/ttest_monthlyincome_by_attrition.md', 'w') as f:\n",
    "        f.write('# T-test: MonthlyIncome by Attrition\\n')\n",
    "        f.write(str(ttest_result))"
   ]
  },
  {
   "cell_type": "code",
   "execution_count": null,
   "id": "3a92c01c",
   "metadata": {
    "lines_to_next_cell": 0
   },
   "outputs": [],
   "source": [
    "display(Markdown(\"\"\"\n",
    "### Chi-square: Department vs. Attrition\n",
    "Tests if attrition rates differ significantly across departments.\n",
    "\"\"\"))\n",
    "# Inferential statistics: Chi-square test for Department vs. Attrition\n",
    "if 'Department' in clean_df.columns and 'Attrition' in clean_df.columns:\n",
    "    chi2_result = chi_square_test(clean_df, 'Department', 'Attrition')\n",
    "    print('Chi-square test for Department vs. Attrition:', chi2_result)\n",
    "    with open('results/chi2_department_vs_attrition.md', 'w') as f:\n",
    "        f.write('# Chi-square: Department vs. Attrition\\n')\n",
    "        f.write(str(chi2_result))"
   ]
  },
  {
   "cell_type": "code",
   "execution_count": null,
   "id": "23aaca28",
   "metadata": {
    "lines_to_next_cell": 0
   },
   "outputs": [],
   "source": [
    "display(Markdown(\"\"\"\n",
    "### Correlation: Age and MonthlyIncome\n",
    "Assesses the linear relationship between age and monthly income.\n",
    "\"\"\"))\n",
    "# Inferential statistics: Correlation test for Age and MonthlyIncome\n",
    "if 'Age' in clean_df.columns and 'MonthlyIncome' in clean_df.columns:\n",
    "    corr_result = correlation_test(clean_df, 'Age', 'MonthlyIncome')\n",
    "    print('Correlation test for Age and MonthlyIncome:', corr_result)\n",
    "    with open('results/correlation_age_monthlyincome.md', 'w') as f:\n",
    "        f.write('# Correlation: Age and MonthlyIncome\\n')\n",
    "        f.write(str(corr_result))"
   ]
  },
  {
   "cell_type": "code",
   "execution_count": null,
   "id": "4b5de2cc",
   "metadata": {
    "lines_to_next_cell": 0
   },
   "outputs": [],
   "source": [
    "display(Markdown(\"\"\"\n",
    "## Visualizations of Key Features\n",
    "We visualize distributions and relationships for important features to uncover patterns related to attrition.\n",
    "\"\"\"))"
   ]
  },
  {
   "cell_type": "code",
   "execution_count": null,
   "id": "153467a3",
   "metadata": {
    "lines_to_next_cell": 0
   },
   "outputs": [],
   "source": [
    "display(Markdown(\"\"\"\n",
    "### Histograms\n",
    "Show the distribution of key numeric features.\n",
    "\"\"\"))\n",
    "# Histograms for key numeric features\n",
    "hist_charts = plot_histograms(clean_df, numeric_cols=['Age', 'MonthlyIncome', 'YearsAtCompany'] if all(col in clean_df.columns for col in ['Age', 'MonthlyIncome', 'YearsAtCompany']) else None)\n",
    "for name, chart in hist_charts.items():\n",
    "    print(f'Histogram: {name}')\n",
    "    chart.display()\n",
    "    chart.save(f'eda_outputs/histogram_{name}.png')"
   ]
  },
  {
   "cell_type": "code",
   "execution_count": null,
   "id": "76bacfd5",
   "metadata": {
    "lines_to_next_cell": 0
   },
   "outputs": [],
   "source": [
    "display(Markdown(\"\"\"\n",
    "### Boxplots by Attrition\n",
    "Compare distributions of numeric features between attrition groups.\n",
    "\"\"\"))\n",
    "# Boxplots by attrition for key numeric features\n",
    "box_charts = plot_boxplots_by_attrition(clean_df, numeric_cols=['Age', 'MonthlyIncome', 'YearsAtCompany'] if all(col in clean_df.columns for col in ['Age', 'MonthlyIncome', 'YearsAtCompany']) else None)\n",
    "for name, chart in box_charts.items():\n",
    "    print(f'Boxplot: {name}')\n",
    "    chart.display()\n",
    "    chart.save(f'eda_outputs/boxplot_{name}_by_attrition.png')"
   ]
  },
  {
   "cell_type": "code",
   "execution_count": null,
   "id": "937f343b",
   "metadata": {
    "lines_to_next_cell": 0
   },
   "outputs": [],
   "source": [
    "display(Markdown(\"\"\"\n",
    "### Bar Plots for Categorical Features\n",
    "Show attrition counts for key categorical features.\n",
    "\"\"\"))\n",
    "# Bar plots for key categorical features\n",
    "bar_charts = plot_barplots_for_categorical(clean_df, categorical_cols=['Department', 'JobRole', 'MaritalStatus'] if all(col in clean_df.columns for col in ['Department', 'JobRole', 'MaritalStatus']) else None)\n",
    "for name, chart in bar_charts.items():\n",
    "    print(f'Barplot: {name}')\n",
    "    chart.display()\n",
    "    chart.save(f'eda_outputs/barplot_{name}_by_attrition.png')"
   ]
  },
  {
   "cell_type": "code",
   "execution_count": null,
   "id": "ee27b2c2",
   "metadata": {
    "lines_to_next_cell": 0
   },
   "outputs": [],
   "source": [
    "display(Markdown(\"\"\"\n",
    "### Stacked Bar Chart: Department by Attrition\n",
    "Visualizes the proportion of attrition within each department.\n",
    "\"\"\"))\n",
    "# Stacked bar chart for Department by Attrition\n",
    "if 'Department' in clean_df.columns:\n",
    "    stacked_chart = plot_stacked_bar_chart(clean_df, 'Department')\n",
    "    stacked_chart.display()\n",
    "    stacked_chart.save('eda_outputs/stacked_bar_department_by_attrition.png')"
   ]
  },
  {
   "cell_type": "code",
   "execution_count": null,
   "id": "4346db02",
   "metadata": {
    "lines_to_next_cell": 0
   },
   "outputs": [],
   "source": [
    "display(Markdown(\"\"\"\n",
    "### Pairplot (Scatterplot Matrix)\n",
    "Visualizes pairwise relationships between numeric features, colored by attrition.\n",
    "\"\"\"))\n",
    "# Pairplot (scatterplot matrix) for numeric features\n",
    "pair_charts = plot_pairplot(clean_df, numeric_cols=['Age', 'MonthlyIncome', 'YearsAtCompany'] if all(col in clean_df.columns for col in ['Age', 'MonthlyIncome', 'YearsAtCompany']) else None)\n",
    "for i, chart in enumerate(pair_charts):\n",
    "    chart.display()\n",
    "    chart.save(f'eda_outputs/pairplot_{i}.png')"
   ]
  },
  {
   "cell_type": "code",
   "execution_count": null,
   "id": "5a87212a",
   "metadata": {
    "lines_to_next_cell": 0
   },
   "outputs": [],
   "source": [
    "display(Markdown(\"\"\"\n",
    "### Violin Plot: MonthlyIncome by Attrition\n",
    "Shows the distribution and density of monthly income for each attrition group.\n",
    "\"\"\"))\n",
    "# Violin plot for MonthlyIncome by Attrition\n",
    "if 'MonthlyIncome' in clean_df.columns:\n",
    "    violin_chart = plot_violin_by_attrition(clean_df, 'MonthlyIncome')\n",
    "    violin_chart.display()\n",
    "    violin_chart.save('eda_outputs/violin_monthlyincome_by_attrition.png')"
   ]
  },
  {
   "cell_type": "code",
   "execution_count": null,
   "id": "0d69f881",
   "metadata": {
    "lines_to_next_cell": 0
   },
   "outputs": [],
   "source": [
    "display(Markdown(\"\"\"\n",
    "### Heatmap: Department vs. JobRole\n",
    "Shows the frequency of employees in each Department-JobRole combination.\n",
    "\"\"\"))\n",
    "# Heatmap for Department vs. JobRole\n",
    "if 'Department' in clean_df.columns and 'JobRole' in clean_df.columns:\n",
    "    heatmap_chart = plot_categorical_heatmap(clean_df, 'Department', 'JobRole')\n",
    "    heatmap_chart.display()\n",
    "    heatmap_chart.save('eda_outputs/heatmap_department_jobrole.png')"
   ]
  },
  {
   "cell_type": "code",
   "execution_count": null,
   "id": "856fc687",
   "metadata": {},
   "outputs": [],
   "source": [
    "display(Markdown(\"\"\"\n",
    "# Findings, Insights, and Recommendations\n",
    "\n",
    "## Findings & Insights\n",
    "\n",
    "### 1. Demographics & Categorical Distributions\n",
    "- **Department:** Most employees are in Research & Development (66%), followed by Sales (30%), with Human Resources being a small minority (4%).\n",
    "- **Job Roles:** The largest groups are Sales Executive, Research Scientist, and Laboratory Technician.\n",
    "- **Marital Status:** The majority are Married (44%), with Single (33%) and Divorced (23%) also represented.\n",
    "- **Gender:** There are more males (59%) than females (41%).\n",
    "- **Age Groups:** The largest age group is 26-35 (41%), followed by 36-45 (31%).\n",
    "\n",
    "### 2. Numeric Summary\n",
    "- **Age:** Mean: 37 years (range: 18–60).\n",
    "- **Monthly Income:** Mean: $6,626 (range: $1,009–$19,999).\n",
    "- **Years at Company:** Mean: 7.1 years (range: 0–40).\n",
    "\n",
    "### 3. Attrition Patterns\n",
    "- **Attrition Rate:** About 17% of employees have left (mean of Attrition column).\n",
    "- **OverTime:** 29% of employees work overtime, which may be a risk factor for attrition.\n",
    "\n",
    "### 4. Statistical Tests\n",
    "- **T-test (MonthlyIncome by Attrition):** Result: `nan` (likely due to missing or constant data in one group; check data integrity).\n",
    "- **Chi-square (Department vs. Attrition):** p-value ≈ 0.099 (not statistically significant at 0.05), suggesting department is not a strong predictor of attrition.\n",
    "- **Correlation (Age and MonthlyIncome):** Correlation: 0.50 (p < 0.001), indicating a moderate positive relationship—older employees tend to earn more.\n",
    "\n",
    "### 5. Feature Importance & Model Performance\n",
    "- **Model Used:** Linear Discriminant Analysis (LDA)\n",
    "- **Performance:** Accuracy: 71%, AUC: 0.78, Recall: 0.75 (good for catching attrition cases), Precision: 0.34 (many false positives)\n",
    "- **Key Features:** (See feature importance plot and CSV for details.)\n",
    "\n",
    "### 6. Visual Insights (from eda_outputs/)\n",
    "- Attrition is higher in certain job roles and age groups (see `attrition_by_jobrole.png`, `attrition_by_agegroup.png`).\n",
    "- OverTime and Marital Status show visible differences in attrition rates.\n",
    "- Correlation heatmap shows strong relationships between some numeric features (see `correlation_heatmap.png`).\n",
    "- Boxplots and violin plots reveal that employees who left often have lower satisfaction and different income distributions.\n",
    "\n",
    "## Recommendations\n",
    "\n",
    "1. **Focus Retention Efforts on At-Risk Groups:**\n",
    "   - Target job roles and age groups with higher attrition.\n",
    "   - Monitor employees working overtime and those with lower satisfaction scores.\n",
    "2. **Further Investigate Data Issues:**\n",
    "   - The t-test for MonthlyIncome by Attrition returned `nan`. Check for missing or constant values in the relevant groups.\n",
    "3. **Modeling Improvements:**\n",
    "   - While recall is high, precision is low. Consider collecting more data, engineering new features, trying alternative models, or adjusting the decision threshold.\n",
    "4. **Monitor and Support Employees:**\n",
    "   - Implement programs to improve job satisfaction, especially for at-risk roles.\n",
    "   - Review compensation and promotion policies for fairness and competitiveness.\n",
    "5. **Continue Data-Driven Monitoring:**\n",
    "   - Regularly update the analysis as new data comes in.\n",
    "   - Use the exported results and visualizations for ongoing reporting and management decisions.\n",
    "\"\"\")) "
   ]
  }
 ],
 "metadata": {
  "jupytext": {
   "cell_metadata_filter": "all",
   "main_language": "python",
   "notebook_metadata_filter": "-all"
  }
 },
 "nbformat": 4,
 "nbformat_minor": 5
}
