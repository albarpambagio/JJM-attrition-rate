{
 "cells": [
  {
   "cell_type": "code",
   "execution_count": null,
   "id": "1bb0e0c2",
   "metadata": {
    "lines_to_next_cell": 0
   },
   "outputs": [],
   "source": [
    "\"\"\"\n",
    "03 Feature Engineering\n",
    "Create new features for modeling employee attrition.\n",
    "\"\"\""
   ]
  },
  {
   "cell_type": "code",
   "execution_count": null,
   "id": "3b638634",
   "metadata": {
    "lines_to_next_cell": 0
   },
   "outputs": [],
   "source": [
    "from src.feature_engineering import engineer_features\n",
    "import pandas as pd\n",
    "from IPython.display import display, Markdown"
   ]
  },
  {
   "cell_type": "code",
   "execution_count": null,
   "id": "187e272e",
   "metadata": {
    "lines_to_next_cell": 0
   },
   "outputs": [],
   "source": [
    "display(Markdown(\"\"\"\n",
    "# Feature Engineering\n",
    "This notebook creates new features from the cleaned employee attrition dataset to improve model performance and interpretability.\n",
    "\"\"\"))"
   ]
  },
  {
   "cell_type": "code",
   "execution_count": null,
   "id": "f092e570",
   "metadata": {
    "lines_to_next_cell": 0
   },
   "outputs": [],
   "source": [
    "# Load cleaned data\n",
    "display(Markdown(\"\"\"\n",
    "## Load Cleaned Data\n",
    "We start by loading the cleaned dataset prepared in the previous step.\n",
    "\"\"\"))\n",
    "clean_df = pd.read_csv('data/employee_data_cleaned.csv')\n",
    "clean_df.head()"
   ]
  },
  {
   "cell_type": "code",
   "execution_count": null,
   "id": "3f8f8de1",
   "metadata": {
    "lines_to_next_cell": 0
   },
   "outputs": [],
   "source": [
    "# Engineer features\n",
    "display(Markdown(\"\"\"\n",
    "## Engineer Features\n",
    "We apply feature engineering techniques to create new variables that may help predict attrition.\n",
    "\"\"\"))\n",
    "features_df = engineer_features(clean_df)\n",
    "features_df.head()"
   ]
  },
  {
   "cell_type": "code",
   "execution_count": null,
   "id": "10afddc6",
   "metadata": {},
   "outputs": [],
   "source": [
    "# Save engineered features for modeling\n",
    "display(Markdown(\"\"\"\n",
    "## Save Engineered Features\n",
    "The engineered features are saved for use in the modeling notebook.\n",
    "\"\"\"))\n",
    "features_df.to_csv('data/employee_data_features.csv', index=False) "
   ]
  }
 ],
 "metadata": {
  "jupytext": {
   "cell_metadata_filter": "all",
   "main_language": "python",
   "notebook_metadata_filter": "-all"
  }
 },
 "nbformat": 4,
 "nbformat_minor": 5
}
