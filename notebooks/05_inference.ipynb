{
 "cells": [
  {
   "cell_type": "code",
   "execution_count": null,
   "id": "e3e3473c",
   "metadata": {
    "lines_to_next_cell": 0
   },
   "outputs": [],
   "source": [
    "\"\"\"\n",
    "05 Inference\n",
    "Use the trained model to predict attrition on new/unseen data.\n",
    "\"\"\""
   ]
  },
  {
   "cell_type": "code",
   "execution_count": null,
   "id": "202fc206",
   "metadata": {
    "lines_to_next_cell": 0
   },
   "outputs": [],
   "source": [
    "from src.inference import predict_attrition\n",
    "from src.feature_engineering import engineer_features\n",
    "import pandas as pd\n",
    "from IPython.display import display, Markdown"
   ]
  },
  {
   "cell_type": "code",
   "execution_count": null,
   "id": "48761218",
   "metadata": {
    "lines_to_next_cell": 0
   },
   "outputs": [],
   "source": [
    "display(Markdown(\"\"\"\n",
    "# Inference\n",
    "This notebook uses the trained attrition model to make predictions on new or unseen employee data.\n",
    "\"\"\"))"
   ]
  },
  {
   "cell_type": "code",
   "execution_count": null,
   "id": "f982a28c",
   "metadata": {
    "lines_to_next_cell": 0
   },
   "outputs": [],
   "source": [
    "display(Markdown(\"\"\"\n",
    "## Load New/Unseen Data\n",
    "We load new or held-out employee data for inference. Replace with actual new data as needed.\n",
    "\"\"\"))"
   ]
  },
  {
   "cell_type": "code",
   "execution_count": null,
   "id": "68b8b4cd",
   "metadata": {
    "lines_to_next_cell": 0
   },
   "outputs": [],
   "source": [
    "# Load new/unseen data (simulate with held-out set)\n",
    "infer_df = pd.read_csv('data/employee_data_cleaned.csv')  # Replace with actual new data if available"
   ]
  },
  {
   "cell_type": "code",
   "execution_count": null,
   "id": "3fe5773c",
   "metadata": {
    "lines_to_next_cell": 0
   },
   "outputs": [],
   "source": [
    "display(Markdown(\"\"\"\n",
    "## Prepare Input Data\n",
    "We remove columns not needed for prediction (e.g., Attrition, EmployeeId).\n",
    "\"\"\"))"
   ]
  },
  {
   "cell_type": "code",
   "execution_count": null,
   "id": "26fa569b",
   "metadata": {
    "lines_to_next_cell": 0
   },
   "outputs": [],
   "source": [
    "# Drop Attrition and EmployeeId if present\n",
    "infer_input = infer_df.drop(columns=[col for col in ['Attrition', 'EmployeeId'] if col in infer_df.columns])"
   ]
  },
  {
   "cell_type": "code",
   "execution_count": null,
   "id": "279dfbec",
   "metadata": {
    "lines_to_next_cell": 0
   },
   "outputs": [],
   "source": [
    "display(Markdown(\"\"\"\n",
    "## Engineer Features for Inference\n",
    "We apply the same feature engineering steps as in training to ensure consistency.\n",
    "\"\"\"))"
   ]
  },
  {
   "cell_type": "code",
   "execution_count": null,
   "id": "3ab7de36",
   "metadata": {
    "lines_to_next_cell": 0
   },
   "outputs": [],
   "source": [
    "# Engineer features for inference\n",
    "df_infer_fe = engineer_features(infer_input)"
   ]
  },
  {
   "cell_type": "code",
   "execution_count": null,
   "id": "e5e8aefa",
   "metadata": {
    "lines_to_next_cell": 0
   },
   "outputs": [],
   "source": [
    "display(Markdown(\"\"\"\n",
    "## Preprocess Categorical Columns\n",
    "We preprocess categorical variables to match the format used during model training.\n",
    "\"\"\"))"
   ]
  },
  {
   "cell_type": "code",
   "execution_count": null,
   "id": "68b40382",
   "metadata": {
    "lines_to_next_cell": 0
   },
   "outputs": [],
   "source": [
    "# Preprocess categorical columns as in training\n",
    "categorical_cols = ['BusinessTravel', 'Department', 'EducationField', \n",
    "                   'Gender', 'JobRole', 'MaritalStatus', 'Over18', 'OverTime', 'AgeGroup']\n",
    "for col in categorical_cols:\n",
    "    if col in df_infer_fe.columns:\n",
    "        df_infer_fe[col] = df_infer_fe[col].astype(str).str.replace(' ', '_').str.replace('&', '_and_')"
   ]
  },
  {
   "cell_type": "code",
   "execution_count": null,
   "id": "b99ca9e5",
   "metadata": {
    "lines_to_next_cell": 0
   },
   "outputs": [],
   "source": [
    "display(Markdown(\"\"\"\n",
    "## Predict Attrition\n",
    "We use the trained model to predict attrition probabilities and classes for each employee.\n",
    "\"\"\"))"
   ]
  },
  {
   "cell_type": "code",
   "execution_count": null,
   "id": "7ae3fa5e",
   "metadata": {},
   "outputs": [],
   "source": [
    "# Predict attrition\n",
    "predictions = predict_attrition(df_infer_fe)\n",
    "predictions.head() "
   ]
  }
 ],
 "metadata": {
  "jupytext": {
   "cell_metadata_filter": "all",
   "main_language": "python",
   "notebook_metadata_filter": "-all"
  }
 },
 "nbformat": 4,
 "nbformat_minor": 5
}
