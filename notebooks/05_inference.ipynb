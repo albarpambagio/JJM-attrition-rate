{
 "cells": [
  {
   "cell_type": "code",
   "execution_count": 1,
   "id": "e3e3473c",
   "metadata": {
    "lines_to_next_cell": 0
   },
   "outputs": [
    {
     "data": {
      "text/plain": [
       "'\\n05 Inference\\nUse the trained model to predict attrition on new/unseen data.\\n'"
      ]
     },
     "execution_count": 1,
     "metadata": {},
     "output_type": "execute_result"
    }
   ],
   "source": [
    "\"\"\"\n",
    "05 Inference\n",
    "Use the trained model to predict attrition on new/unseen data.\n",
    "\"\"\""
   ]
  },
  {
   "cell_type": "code",
   "execution_count": 2,
   "id": "202fc206",
   "metadata": {
    "lines_to_next_cell": 0
   },
   "outputs": [],
   "source": [
    "from src.inference import predict_attrition\n",
    "from src.feature_engineering import engineer_features\n",
    "import pandas as pd\n",
    "from IPython.display import display, Markdown"
   ]
  },
  {
   "cell_type": "code",
   "execution_count": 3,
   "id": "48761218",
   "metadata": {
    "lines_to_next_cell": 0
   },
   "outputs": [
    {
     "data": {
      "text/markdown": [
       "\n",
       "# Inference\n",
       "This notebook uses the trained attrition model to make predictions on new or unseen employee data.\n"
      ],
      "text/plain": [
       "<IPython.core.display.Markdown object>"
      ]
     },
     "metadata": {},
     "output_type": "display_data"
    }
   ],
   "source": [
    "display(Markdown(\"\"\"\n",
    "# Inference\n",
    "This notebook uses the trained attrition model to make predictions on new or unseen employee data.\n",
    "\"\"\"))"
   ]
  },
  {
   "cell_type": "code",
   "execution_count": 4,
   "id": "f982a28c",
   "metadata": {
    "lines_to_next_cell": 0
   },
   "outputs": [
    {
     "data": {
      "text/markdown": [
       "\n",
       "## Load New/Unseen Data\n",
       "We load new or held-out employee data for inference. Replace with actual new data as needed.\n"
      ],
      "text/plain": [
       "<IPython.core.display.Markdown object>"
      ]
     },
     "metadata": {},
     "output_type": "display_data"
    }
   ],
   "source": [
    "display(Markdown(\"\"\"\n",
    "## Load New/Unseen Data\n",
    "We load new or held-out employee data for inference. Replace with actual new data as needed.\n",
    "\"\"\"))"
   ]
  },
  {
   "cell_type": "code",
   "execution_count": 5,
   "id": "6fe45d14",
   "metadata": {},
   "outputs": [
    {
     "name": "stdout",
     "output_type": "stream",
     "text": [
      "Current working directory: c:\\Users\\USER\\Documents\\Projects\\JJM-attrition-rate\\notebooks\n",
      "Changed working directory to: C:\\Users\\USER\\Documents\\Projects\\JJM-attrition-rate\n"
     ]
    }
   ],
   "source": [
    "import os\n",
    "\n",
    "# Print current working directory\n",
    "print(\"Current working directory:\", os.getcwd())\n",
    "\n",
    "# If not in the project root, change to it\n",
    "project_root = r\"C:\\Users\\USER\\Documents\\Projects\\JJM-attrition-rate\"\n",
    "if os.getcwd() != project_root:\n",
    "    os.chdir(project_root)\n",
    "    print(\"Changed working directory to:\", os.getcwd())"
   ]
  },
  {
   "cell_type": "code",
   "execution_count": 6,
   "id": "68b8b4cd",
   "metadata": {
    "lines_to_next_cell": 0
   },
   "outputs": [],
   "source": [
    "# Load new/unseen data (simulate with held-out set)\n",
    "infer_df = pd.read_csv('data/employee_data_cleaned.csv')  # Replace with actual new data if available"
   ]
  },
  {
   "cell_type": "code",
   "execution_count": 7,
   "id": "3fe5773c",
   "metadata": {
    "lines_to_next_cell": 0
   },
   "outputs": [
    {
     "data": {
      "text/markdown": [
       "\n",
       "## Prepare Input Data\n",
       "We remove columns not needed for prediction (e.g., Attrition, EmployeeId).\n"
      ],
      "text/plain": [
       "<IPython.core.display.Markdown object>"
      ]
     },
     "metadata": {},
     "output_type": "display_data"
    }
   ],
   "source": [
    "display(Markdown(\"\"\"\n",
    "## Prepare Input Data\n",
    "We remove columns not needed for prediction (e.g., Attrition, EmployeeId).\n",
    "\"\"\"))"
   ]
  },
  {
   "cell_type": "code",
   "execution_count": 8,
   "id": "26fa569b",
   "metadata": {
    "lines_to_next_cell": 0
   },
   "outputs": [],
   "source": [
    "# Drop Attrition and EmployeeId if present\n",
    "infer_input = infer_df.drop(columns=[col for col in ['Attrition', 'EmployeeId'] if col in infer_df.columns])"
   ]
  },
  {
   "cell_type": "code",
   "execution_count": 9,
   "id": "279dfbec",
   "metadata": {
    "lines_to_next_cell": 0
   },
   "outputs": [
    {
     "data": {
      "text/markdown": [
       "\n",
       "## Engineer Features for Inference\n",
       "We apply the same feature engineering steps as in training to ensure consistency.\n"
      ],
      "text/plain": [
       "<IPython.core.display.Markdown object>"
      ]
     },
     "metadata": {},
     "output_type": "display_data"
    }
   ],
   "source": [
    "display(Markdown(\"\"\"\n",
    "## Engineer Features for Inference\n",
    "We apply the same feature engineering steps as in training to ensure consistency.\n",
    "\"\"\"))"
   ]
  },
  {
   "cell_type": "code",
   "execution_count": 10,
   "id": "3ab7de36",
   "metadata": {
    "lines_to_next_cell": 0
   },
   "outputs": [],
   "source": [
    "# Engineer features for inference\n",
    "df_infer_fe = engineer_features(infer_input)"
   ]
  },
  {
   "cell_type": "code",
   "execution_count": 11,
   "id": "e5e8aefa",
   "metadata": {
    "lines_to_next_cell": 0
   },
   "outputs": [
    {
     "data": {
      "text/markdown": [
       "\n",
       "## Preprocess Categorical Columns\n",
       "We preprocess categorical variables to match the format used during model training.\n"
      ],
      "text/plain": [
       "<IPython.core.display.Markdown object>"
      ]
     },
     "metadata": {},
     "output_type": "display_data"
    }
   ],
   "source": [
    "display(Markdown(\"\"\"\n",
    "## Preprocess Categorical Columns\n",
    "We preprocess categorical variables to match the format used during model training.\n",
    "\"\"\"))"
   ]
  },
  {
   "cell_type": "code",
   "execution_count": 12,
   "id": "68b40382",
   "metadata": {
    "lines_to_next_cell": 0
   },
   "outputs": [],
   "source": [
    "# Preprocess categorical columns as in training\n",
    "categorical_cols = ['BusinessTravel', 'Department', 'EducationField', \n",
    "                   'Gender', 'JobRole', 'MaritalStatus', 'Over18', 'OverTime', 'AgeGroup']\n",
    "for col in categorical_cols:\n",
    "    if col in df_infer_fe.columns:\n",
    "        df_infer_fe[col] = df_infer_fe[col].astype(str).str.replace(' ', '_').str.replace('&', '_and_')"
   ]
  },
  {
   "cell_type": "code",
   "execution_count": 13,
   "id": "b99ca9e5",
   "metadata": {
    "lines_to_next_cell": 0
   },
   "outputs": [
    {
     "data": {
      "text/markdown": [
       "\n",
       "## Predict Attrition\n",
       "We use the trained model to predict attrition probabilities and classes for each employee.\n"
      ],
      "text/plain": [
       "<IPython.core.display.Markdown object>"
      ]
     },
     "metadata": {},
     "output_type": "display_data"
    }
   ],
   "source": [
    "display(Markdown(\"\"\"\n",
    "## Predict Attrition\n",
    "We use the trained model to predict attrition probabilities and classes for each employee.\n",
    "\"\"\"))"
   ]
  },
  {
   "cell_type": "code",
   "execution_count": 14,
   "id": "7ae3fa5e",
   "metadata": {},
   "outputs": [
    {
     "name": "stdout",
     "output_type": "stream",
     "text": [
      "Transformation Pipeline and Model Successfully Loaded\n"
     ]
    },
    {
     "data": {
      "text/html": [
       "<div>\n",
       "<style scoped>\n",
       "    .dataframe tbody tr th:only-of-type {\n",
       "        vertical-align: middle;\n",
       "    }\n",
       "\n",
       "    .dataframe tbody tr th {\n",
       "        vertical-align: top;\n",
       "    }\n",
       "\n",
       "    .dataframe thead th {\n",
       "        text-align: right;\n",
       "    }\n",
       "</style>\n",
       "<table border=\"1\" class=\"dataframe\">\n",
       "  <thead>\n",
       "    <tr style=\"text-align: right;\">\n",
       "      <th></th>\n",
       "      <th>Age</th>\n",
       "      <th>BusinessTravel</th>\n",
       "      <th>DailyRate</th>\n",
       "      <th>Department</th>\n",
       "      <th>DistanceFromHome</th>\n",
       "      <th>Education</th>\n",
       "      <th>EducationField</th>\n",
       "      <th>EmployeeCount</th>\n",
       "      <th>EnvironmentSatisfaction</th>\n",
       "      <th>Gender</th>\n",
       "      <th>...</th>\n",
       "      <th>AgeGroup</th>\n",
       "      <th>TenureRatio</th>\n",
       "      <th>OverallSatisfaction</th>\n",
       "      <th>SalaryToAgeRatio</th>\n",
       "      <th>SalaryToTenureRatio</th>\n",
       "      <th>PromotionRate</th>\n",
       "      <th>RoleStability</th>\n",
       "      <th>TravelImpact</th>\n",
       "      <th>prediction_label</th>\n",
       "      <th>prediction_score</th>\n",
       "    </tr>\n",
       "  </thead>\n",
       "  <tbody>\n",
       "    <tr>\n",
       "      <th>0</th>\n",
       "      <td>37</td>\n",
       "      <td>Travel_Rarely</td>\n",
       "      <td>1141</td>\n",
       "      <td>Research__and__Development</td>\n",
       "      <td>11</td>\n",
       "      <td>2</td>\n",
       "      <td>Medical</td>\n",
       "      <td>1</td>\n",
       "      <td>1</td>\n",
       "      <td>Female</td>\n",
       "      <td>...</td>\n",
       "      <td>36-45</td>\n",
       "      <td>0.066667</td>\n",
       "      <td>1.25</td>\n",
       "      <td>129.108109</td>\n",
       "      <td>4777.000000</td>\n",
       "      <td>1.0</td>\n",
       "      <td>0.00</td>\n",
       "      <td>1</td>\n",
       "      <td>1</td>\n",
       "      <td>0.6143</td>\n",
       "    </tr>\n",
       "    <tr>\n",
       "      <th>1</th>\n",
       "      <td>51</td>\n",
       "      <td>Travel_Rarely</td>\n",
       "      <td>1323</td>\n",
       "      <td>Research__and__Development</td>\n",
       "      <td>4</td>\n",
       "      <td>4</td>\n",
       "      <td>Life_Sciences</td>\n",
       "      <td>1</td>\n",
       "      <td>1</td>\n",
       "      <td>Male</td>\n",
       "      <td>...</td>\n",
       "      <td>46-55</td>\n",
       "      <td>0.555556</td>\n",
       "      <td>2.75</td>\n",
       "      <td>48.254902</td>\n",
       "      <td>246.100006</td>\n",
       "      <td>5.0</td>\n",
       "      <td>0.00</td>\n",
       "      <td>1</td>\n",
       "      <td>1</td>\n",
       "      <td>0.7972</td>\n",
       "    </tr>\n",
       "    <tr>\n",
       "      <th>2</th>\n",
       "      <td>42</td>\n",
       "      <td>Travel_Frequently</td>\n",
       "      <td>555</td>\n",
       "      <td>Sales</td>\n",
       "      <td>26</td>\n",
       "      <td>3</td>\n",
       "      <td>Marketing</td>\n",
       "      <td>1</td>\n",
       "      <td>3</td>\n",
       "      <td>Female</td>\n",
       "      <td>...</td>\n",
       "      <td>36-45</td>\n",
       "      <td>0.869565</td>\n",
       "      <td>3.25</td>\n",
       "      <td>322.023804</td>\n",
       "      <td>676.250000</td>\n",
       "      <td>5.0</td>\n",
       "      <td>0.20</td>\n",
       "      <td>2</td>\n",
       "      <td>0</td>\n",
       "      <td>0.7099</td>\n",
       "    </tr>\n",
       "    <tr>\n",
       "      <th>3</th>\n",
       "      <td>40</td>\n",
       "      <td>Travel_Rarely</td>\n",
       "      <td>1124</td>\n",
       "      <td>Sales</td>\n",
       "      <td>1</td>\n",
       "      <td>2</td>\n",
       "      <td>Medical</td>\n",
       "      <td>1</td>\n",
       "      <td>2</td>\n",
       "      <td>Male</td>\n",
       "      <td>...</td>\n",
       "      <td>36-45</td>\n",
       "      <td>0.666667</td>\n",
       "      <td>2.75</td>\n",
       "      <td>186.425003</td>\n",
       "      <td>1864.250000</td>\n",
       "      <td>4.0</td>\n",
       "      <td>0.75</td>\n",
       "      <td>1</td>\n",
       "      <td>1</td>\n",
       "      <td>0.6376</td>\n",
       "    </tr>\n",
       "    <tr>\n",
       "      <th>4</th>\n",
       "      <td>55</td>\n",
       "      <td>Travel_Rarely</td>\n",
       "      <td>725</td>\n",
       "      <td>Research__and__Development</td>\n",
       "      <td>2</td>\n",
       "      <td>3</td>\n",
       "      <td>Medical</td>\n",
       "      <td>1</td>\n",
       "      <td>4</td>\n",
       "      <td>Male</td>\n",
       "      <td>...</td>\n",
       "      <td>46-55</td>\n",
       "      <td>0.208333</td>\n",
       "      <td>3.00</td>\n",
       "      <td>361.072723</td>\n",
       "      <td>3971.800049</td>\n",
       "      <td>5.0</td>\n",
       "      <td>0.40</td>\n",
       "      <td>1</td>\n",
       "      <td>0</td>\n",
       "      <td>0.8189</td>\n",
       "    </tr>\n",
       "  </tbody>\n",
       "</table>\n",
       "<p>5 rows × 43 columns</p>\n",
       "</div>"
      ],
      "text/plain": [
       "   Age     BusinessTravel  DailyRate                  Department  \\\n",
       "0   37      Travel_Rarely       1141  Research__and__Development   \n",
       "1   51      Travel_Rarely       1323  Research__and__Development   \n",
       "2   42  Travel_Frequently        555                       Sales   \n",
       "3   40      Travel_Rarely       1124                       Sales   \n",
       "4   55      Travel_Rarely        725  Research__and__Development   \n",
       "\n",
       "   DistanceFromHome  Education EducationField  EmployeeCount  \\\n",
       "0                11          2        Medical              1   \n",
       "1                 4          4  Life_Sciences              1   \n",
       "2                26          3      Marketing              1   \n",
       "3                 1          2        Medical              1   \n",
       "4                 2          3        Medical              1   \n",
       "\n",
       "   EnvironmentSatisfaction  Gender  ...  AgeGroup  TenureRatio  \\\n",
       "0                        1  Female  ...     36-45     0.066667   \n",
       "1                        1    Male  ...     46-55     0.555556   \n",
       "2                        3  Female  ...     36-45     0.869565   \n",
       "3                        2    Male  ...     36-45     0.666667   \n",
       "4                        4    Male  ...     46-55     0.208333   \n",
       "\n",
       "   OverallSatisfaction SalaryToAgeRatio  SalaryToTenureRatio PromotionRate  \\\n",
       "0                 1.25       129.108109          4777.000000           1.0   \n",
       "1                 2.75        48.254902           246.100006           5.0   \n",
       "2                 3.25       322.023804           676.250000           5.0   \n",
       "3                 2.75       186.425003          1864.250000           4.0   \n",
       "4                 3.00       361.072723          3971.800049           5.0   \n",
       "\n",
       "   RoleStability  TravelImpact  prediction_label prediction_score  \n",
       "0           0.00             1                 1           0.6143  \n",
       "1           0.00             1                 1           0.7972  \n",
       "2           0.20             2                 0           0.7099  \n",
       "3           0.75             1                 1           0.6376  \n",
       "4           0.40             1                 0           0.8189  \n",
       "\n",
       "[5 rows x 43 columns]"
      ]
     },
     "execution_count": 14,
     "metadata": {},
     "output_type": "execute_result"
    }
   ],
   "source": [
    "# Predict attrition\n",
    "predictions = predict_attrition(df_infer_fe)\n",
    "predictions.head() "
   ]
  }
 ],
 "metadata": {
  "jupytext": {
   "cell_metadata_filter": "all",
   "main_language": "python",
   "notebook_metadata_filter": "-all"
  },
  "kernelspec": {
   "display_name": ".venv",
   "language": "python",
   "name": "python3"
  },
  "language_info": {
   "codemirror_mode": {
    "name": "ipython",
    "version": 3
   },
   "file_extension": ".py",
   "mimetype": "text/x-python",
   "name": "python",
   "nbconvert_exporter": "python",
   "pygments_lexer": "ipython3",
   "version": "3.11.12"
  }
 },
 "nbformat": 4,
 "nbformat_minor": 5
}
