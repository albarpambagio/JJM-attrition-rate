{
 "cells": [
  {
   "cell_type": "code",
   "execution_count": null,
   "id": "9cda9ea7",
   "metadata": {
    "lines_to_next_cell": 0
   },
   "outputs": [],
   "source": [
    "\"\"\"\n",
    "04 Modeling\n",
    "Train and evaluate models for employee attrition prediction.\n",
    "\"\"\""
   ]
  },
  {
   "cell_type": "code",
   "execution_count": null,
   "id": "b88a7d31",
   "metadata": {
    "lines_to_next_cell": 0
   },
   "outputs": [],
   "source": [
    "from src.modeling import setup_modeling, train_and_tune_model, evaluate_trained_model, plot_feature_importance, save_trained_model\n",
    "import pandas as pd\n",
    "from IPython.display import display, Markdown\n",
    "from sklearn.metrics import confusion_matrix, classification_report, roc_curve, precision_recall_curve\n",
    "import numpy as np\n",
    "import os\n",
    "from pycaret.classification import predict_model, plot_model\n",
    "import shutil"
   ]
  },
  {
   "cell_type": "code",
   "execution_count": null,
   "id": "c2322bbf",
   "metadata": {
    "lines_to_next_cell": 0
   },
   "outputs": [],
   "source": [
    "display(Markdown(\"\"\"\n",
    "# Modeling\n",
    "This notebook trains and evaluates machine learning models to predict employee attrition.\n",
    "\"\"\"))"
   ]
  },
  {
   "cell_type": "code",
   "execution_count": null,
   "id": "7c3c2825",
   "metadata": {
    "lines_to_next_cell": 0
   },
   "outputs": [],
   "source": [
    "display(Markdown(\"\"\"\n",
    "## Load Engineered Features\n",
    "We load the dataset with engineered features for modeling.\n",
    "\"\"\"))"
   ]
  },
  {
   "cell_type": "code",
   "execution_count": null,
   "id": "a650323d",
   "metadata": {
    "lines_to_next_cell": 0
   },
   "outputs": [],
   "source": [
    "# Load engineered features\n",
    "features_df = pd.read_csv('data/employee_data_features.csv')\n",
    "features_df.head()"
   ]
  },
  {
   "cell_type": "code",
   "execution_count": null,
   "id": "db4ad415",
   "metadata": {
    "lines_to_next_cell": 0
   },
   "outputs": [],
   "source": [
    "display(Markdown(\"\"\"\n",
    "## Preprocess Categorical Columns\n",
    "We preprocess categorical variables to ensure they are in a suitable format for modeling.\n",
    "\"\"\"))"
   ]
  },
  {
   "cell_type": "code",
   "execution_count": null,
   "id": "eddd0cb2",
   "metadata": {
    "lines_to_next_cell": 0
   },
   "outputs": [],
   "source": [
    "# Preprocess categorical columns for modeling (if needed)\n",
    "categorical_cols = ['BusinessTravel', 'Department', 'EducationField', \n",
    "                   'Gender', 'JobRole', 'MaritalStatus', 'Over18', 'OverTime', 'AgeGroup']\n",
    "for col in categorical_cols:\n",
    "    features_df[col] = features_df[col].astype(str).str.replace(' ', '_').str.replace('&', '_and_')"
   ]
  },
  {
   "cell_type": "code",
   "execution_count": null,
   "id": "2b30e153",
   "metadata": {
    "lines_to_next_cell": 0
   },
   "outputs": [],
   "source": [
    "display(Markdown(\"\"\"\n",
    "## Setup Modeling Environment\n",
    "We initialize the modeling environment, including data splitting and preprocessing.\n",
    "\"\"\"))"
   ]
  },
  {
   "cell_type": "code",
   "execution_count": null,
   "id": "6f76d7e9",
   "metadata": {
    "lines_to_next_cell": 0
   },
   "outputs": [],
   "source": [
    "# Setup modeling environment\n",
    "setup_modeling(features_df)"
   ]
  },
  {
   "cell_type": "code",
   "execution_count": null,
   "id": "1ea458af",
   "metadata": {
    "lines_to_next_cell": 0
   },
   "outputs": [],
   "source": [
    "display(Markdown(\"\"\"\n",
    "## Train and Tune Model\n",
    "We train and tune a machine learning model to optimize for recall (catching as many attrition cases as possible).\n",
    "\"\"\"))"
   ]
  },
  {
   "cell_type": "code",
   "execution_count": null,
   "id": "c316e0f4",
   "metadata": {
    "lines_to_next_cell": 0
   },
   "outputs": [],
   "source": [
    "# Train and tune model\n",
    "model = train_and_tune_model(model_name='lda', optimize='Recall', n_iter=50)"
   ]
  },
  {
   "cell_type": "code",
   "execution_count": null,
   "id": "dd47ca5b",
   "metadata": {
    "lines_to_next_cell": 0
   },
   "outputs": [],
   "source": [
    "display(Markdown(\"\"\"\n",
    "## Evaluate Model\n",
    "We evaluate the trained model's performance using relevant metrics.\n",
    "\"\"\"))"
   ]
  },
  {
   "cell_type": "code",
   "execution_count": null,
   "id": "a475d7be",
   "metadata": {},
   "outputs": [],
   "source": [
    "# Evaluate model\n",
    "evaluate_trained_model(model)\n",
    "\n",
    "# Save model\n",
    "model_path = save_trained_model(model, 'models/final_lda_model')\n",
    "# PyCaret appends .pkl if not present\n",
    "if not os.path.exists('models/final_lda_model.pkl'):\n",
    "    print(\"WARNING: Model file models/final_lda_model.pkl not found after saving.\")\n",
    "else:\n",
    "    print(\"Model saved as models/final_lda_model.pkl\")\n",
    "\n",
    "# Export confusion matrix and classification report\n",
    "try:\n",
    "    if hasattr(model, 'predict'):\n",
    "        y_true = features_df['Attrition'] if 'Attrition' in features_df.columns else None\n",
    "        preds_df = predict_model(model, data=features_df)\n",
    "        y_pred = preds_df['Label'] if 'Label' in preds_df.columns else None\n",
    "        if y_true is not None and y_pred is not None:\n",
    "            cm = confusion_matrix(y_true, y_pred, labels=np.unique(y_true))\n",
    "            cr = classification_report(y_true, y_pred)\n",
    "            os.makedirs('results', exist_ok=True)\n",
    "            with open('results/confusion_matrix.md', 'w') as f:\n",
    "                f.write('# Confusion Matrix\\n')\n",
    "                f.write(str(cm))\n",
    "            with open('results/classification_report.md', 'w') as f:\n",
    "                f.write('# Classification Report\\n')\n",
    "                f.write(cr)\n",
    "            # ROC and PR curve data (if binary)\n",
    "            if len(np.unique(y_true)) == 2:\n",
    "                y_score = preds_df['Score'] if 'Score' in preds_df.columns else None\n",
    "                if y_score is not None:\n",
    "                    fpr, tpr, _ = roc_curve(y_true, y_score, pos_label=np.unique(y_true)[1])\n",
    "                    precision, recall, _ = precision_recall_curve(y_true, y_score, pos_label=np.unique(y_true)[1])\n",
    "                    np.savetxt('results/roc_curve.csv', np.column_stack([fpr, tpr]), delimiter=',', header='fpr,tpr', comments='')\n",
    "                    np.savetxt('results/pr_curve.csv', np.column_stack([precision, recall]), delimiter=',', header='precision,recall', comments='')\n",
    "            # Save predictions for consistency\n",
    "            preds_df.to_csv('results/predictions.csv', index=False)\n",
    "        else:\n",
    "            print(\"WARNING: y_true or y_pred is None. Confusion matrix not exported.\")\n",
    "    else:\n",
    "        print(\"WARNING: Model does not have a 'predict' attribute. Confusion matrix not exported.\")\n",
    "except Exception as e:\n",
    "    print(f\"ERROR exporting confusion matrix: {e}\")"
   ]
  },
  {
   "cell_type": "code",
   "execution_count": null,
   "id": "fbd70d6b",
   "metadata": {
    "lines_to_next_cell": 0
   },
   "outputs": [],
   "source": [
    "display(Markdown(\"\"\"\n",
    "## Feature Importance\n",
    "We analyze which features are most influential in predicting attrition.\n",
    "\"\"\"))"
   ]
  },
  {
   "cell_type": "code",
   "execution_count": null,
   "id": "e4bf5732",
   "metadata": {
    "lines_to_next_cell": 0
   },
   "outputs": [],
   "source": [
    "# Feature importance\n",
    "plot_model(model, plot='feature', save=True)\n",
    "shutil.move('Feature Importance.png', 'results/feature_importance_plot.png')\n",
    "importance_df = plot_feature_importance(model)\n",
    "display(importance_df.head())\n",
    "# Export feature importance to CSV\n",
    "if importance_df is not None:\n",
    "    importance_df.to_csv('results/feature_importance.csv', index=False)"
   ]
  },
  {
   "cell_type": "code",
   "execution_count": null,
   "id": "1697a34c",
   "metadata": {
    "lines_to_next_cell": 0
   },
   "outputs": [],
   "source": [
    "display(Markdown(\"\"\"\n",
    "## Save Model\n",
    "The final trained model is saved for future inference and deployment.\n",
    "\"\"\"))"
   ]
  },
  {
   "cell_type": "code",
   "execution_count": null,
   "id": "e5275912",
   "metadata": {},
   "outputs": [],
   "source": [
    "# Save model\n",
    "save_trained_model(model, 'models/final_lda_model') "
   ]
  }
 ],
 "metadata": {
  "jupytext": {
   "cell_metadata_filter": "all",
   "main_language": "python",
   "notebook_metadata_filter": "-all"
  }
 },
 "nbformat": 4,
 "nbformat_minor": 5
}
