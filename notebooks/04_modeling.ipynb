{
 "cells": [
  {
   "cell_type": "code",
   "execution_count": 1,
   "id": "e8c76aff",
   "metadata": {
    "lines_to_next_cell": 0
   },
   "outputs": [
    {
     "data": {
      "text/plain": [
       "'\\n04 Modeling\\nTrain and evaluate models for employee attrition prediction.\\n'"
      ]
     },
     "execution_count": 1,
     "metadata": {},
     "output_type": "execute_result"
    }
   ],
   "source": [
    "\"\"\"\n",
    "04 Modeling\n",
    "Train and evaluate models for employee attrition prediction.\n",
    "\"\"\""
   ]
  },
  {
   "cell_type": "code",
   "execution_count": 2,
   "id": "1a635cca",
   "metadata": {
    "lines_to_next_cell": 0
   },
   "outputs": [],
   "source": [
    "from src.modeling import setup_modeling, train_and_tune_model, evaluate_trained_model, plot_feature_importance, save_trained_model\n",
    "import pandas as pd\n",
    "from IPython.display import display, Markdown\n",
    "from sklearn.metrics import confusion_matrix, classification_report, roc_curve, precision_recall_curve\n",
    "import numpy as np\n",
    "from pycaret.classification import predict_model, plot_model, pull\n",
    "import shutil\n",
    "import shap\n",
    "import matplotlib.pyplot as plt"
   ]
  },
  {
   "cell_type": "code",
   "execution_count": 3,
   "id": "1d4a4e87",
   "metadata": {
    "lines_to_next_cell": 0
   },
   "outputs": [
    {
     "data": {
      "text/markdown": [
       "\n",
       "# Modeling\n",
       "This notebook trains and evaluates machine learning models to predict employee attrition.\n"
      ],
      "text/plain": [
       "<IPython.core.display.Markdown object>"
      ]
     },
     "metadata": {},
     "output_type": "display_data"
    }
   ],
   "source": [
    "display(Markdown(\"\"\"\n",
    "# Modeling\n",
    "This notebook trains and evaluates machine learning models to predict employee attrition.\n",
    "\"\"\"))"
   ]
  },
  {
   "cell_type": "code",
   "execution_count": 4,
   "id": "8a484055",
   "metadata": {
    "lines_to_next_cell": 0
   },
   "outputs": [
    {
     "data": {
      "text/markdown": [
       "\n",
       "## Load Engineered Features\n",
       "We load the dataset with engineered features for modeling.\n"
      ],
      "text/plain": [
       "<IPython.core.display.Markdown object>"
      ]
     },
     "metadata": {},
     "output_type": "display_data"
    }
   ],
   "source": [
    "display(Markdown(\"\"\"\n",
    "## Load Engineered Features\n",
    "We load the dataset with engineered features for modeling.\n",
    "\"\"\"))"
   ]
  },
  {
   "cell_type": "code",
   "execution_count": 5,
   "id": "fd58f901",
   "metadata": {},
   "outputs": [
    {
     "name": "stdout",
     "output_type": "stream",
     "text": [
      "Current working directory: c:\\Users\\USER\\Documents\\Projects\\JJM-attrition-rate\\notebooks\n",
      "Changed working directory to: C:\\Users\\USER\\Documents\\Projects\\JJM-attrition-rate\n"
     ]
    }
   ],
   "source": [
    "import os\n",
    "\n",
    "# Print current working directory\n",
    "print(\"Current working directory:\", os.getcwd())\n",
    "\n",
    "# If not in the project root, change to it\n",
    "project_root = r\"C:\\Users\\USER\\Documents\\Projects\\JJM-attrition-rate\"\n",
    "if os.getcwd() != project_root:\n",
    "    os.chdir(project_root)\n",
    "    print(\"Changed working directory to:\", os.getcwd())"
   ]
  },
  {
   "cell_type": "code",
   "execution_count": 6,
   "id": "f3c59fdc",
   "metadata": {
    "lines_to_next_cell": 0
   },
   "outputs": [
    {
     "data": {
      "text/html": [
       "<div>\n",
       "<style scoped>\n",
       "    .dataframe tbody tr th:only-of-type {\n",
       "        vertical-align: middle;\n",
       "    }\n",
       "\n",
       "    .dataframe tbody tr th {\n",
       "        vertical-align: top;\n",
       "    }\n",
       "\n",
       "    .dataframe thead th {\n",
       "        text-align: right;\n",
       "    }\n",
       "</style>\n",
       "<table border=\"1\" class=\"dataframe\">\n",
       "  <thead>\n",
       "    <tr style=\"text-align: right;\">\n",
       "      <th></th>\n",
       "      <th>EmployeeId</th>\n",
       "      <th>Age</th>\n",
       "      <th>Attrition</th>\n",
       "      <th>BusinessTravel</th>\n",
       "      <th>DailyRate</th>\n",
       "      <th>Department</th>\n",
       "      <th>DistanceFromHome</th>\n",
       "      <th>Education</th>\n",
       "      <th>EducationField</th>\n",
       "      <th>EmployeeCount</th>\n",
       "      <th>...</th>\n",
       "      <th>YearsSinceLastPromotion</th>\n",
       "      <th>YearsWithCurrManager</th>\n",
       "      <th>AgeGroup</th>\n",
       "      <th>TenureRatio</th>\n",
       "      <th>OverallSatisfaction</th>\n",
       "      <th>SalaryToAgeRatio</th>\n",
       "      <th>SalaryToTenureRatio</th>\n",
       "      <th>PromotionRate</th>\n",
       "      <th>RoleStability</th>\n",
       "      <th>TravelImpact</th>\n",
       "    </tr>\n",
       "  </thead>\n",
       "  <tbody>\n",
       "    <tr>\n",
       "      <th>0</th>\n",
       "      <td>2</td>\n",
       "      <td>37</td>\n",
       "      <td>1.0</td>\n",
       "      <td>Travel_Rarely</td>\n",
       "      <td>1141</td>\n",
       "      <td>Research &amp; Development</td>\n",
       "      <td>11</td>\n",
       "      <td>2</td>\n",
       "      <td>Medical</td>\n",
       "      <td>1</td>\n",
       "      <td>...</td>\n",
       "      <td>0</td>\n",
       "      <td>0</td>\n",
       "      <td>36-45</td>\n",
       "      <td>0.066667</td>\n",
       "      <td>1.25</td>\n",
       "      <td>129.108108</td>\n",
       "      <td>4777.00</td>\n",
       "      <td>1.0</td>\n",
       "      <td>0.00</td>\n",
       "      <td>1</td>\n",
       "    </tr>\n",
       "    <tr>\n",
       "      <th>1</th>\n",
       "      <td>3</td>\n",
       "      <td>51</td>\n",
       "      <td>1.0</td>\n",
       "      <td>Travel_Rarely</td>\n",
       "      <td>1323</td>\n",
       "      <td>Research &amp; Development</td>\n",
       "      <td>4</td>\n",
       "      <td>4</td>\n",
       "      <td>Life Sciences</td>\n",
       "      <td>1</td>\n",
       "      <td>...</td>\n",
       "      <td>2</td>\n",
       "      <td>7</td>\n",
       "      <td>46-55</td>\n",
       "      <td>0.555556</td>\n",
       "      <td>2.75</td>\n",
       "      <td>48.254902</td>\n",
       "      <td>246.10</td>\n",
       "      <td>5.0</td>\n",
       "      <td>0.00</td>\n",
       "      <td>1</td>\n",
       "    </tr>\n",
       "    <tr>\n",
       "      <th>2</th>\n",
       "      <td>4</td>\n",
       "      <td>42</td>\n",
       "      <td>0.0</td>\n",
       "      <td>Travel_Frequently</td>\n",
       "      <td>555</td>\n",
       "      <td>Sales</td>\n",
       "      <td>26</td>\n",
       "      <td>3</td>\n",
       "      <td>Marketing</td>\n",
       "      <td>1</td>\n",
       "      <td>...</td>\n",
       "      <td>4</td>\n",
       "      <td>8</td>\n",
       "      <td>36-45</td>\n",
       "      <td>0.869565</td>\n",
       "      <td>3.25</td>\n",
       "      <td>322.023810</td>\n",
       "      <td>676.25</td>\n",
       "      <td>5.0</td>\n",
       "      <td>0.20</td>\n",
       "      <td>2</td>\n",
       "    </tr>\n",
       "    <tr>\n",
       "      <th>3</th>\n",
       "      <td>7</td>\n",
       "      <td>40</td>\n",
       "      <td>0.0</td>\n",
       "      <td>Travel_Rarely</td>\n",
       "      <td>1124</td>\n",
       "      <td>Sales</td>\n",
       "      <td>1</td>\n",
       "      <td>2</td>\n",
       "      <td>Medical</td>\n",
       "      <td>1</td>\n",
       "      <td>...</td>\n",
       "      <td>0</td>\n",
       "      <td>2</td>\n",
       "      <td>36-45</td>\n",
       "      <td>0.666667</td>\n",
       "      <td>2.75</td>\n",
       "      <td>186.425000</td>\n",
       "      <td>1864.25</td>\n",
       "      <td>4.0</td>\n",
       "      <td>0.75</td>\n",
       "      <td>1</td>\n",
       "    </tr>\n",
       "    <tr>\n",
       "      <th>4</th>\n",
       "      <td>8</td>\n",
       "      <td>55</td>\n",
       "      <td>1.0</td>\n",
       "      <td>Travel_Rarely</td>\n",
       "      <td>725</td>\n",
       "      <td>Research &amp; Development</td>\n",
       "      <td>2</td>\n",
       "      <td>3</td>\n",
       "      <td>Medical</td>\n",
       "      <td>1</td>\n",
       "      <td>...</td>\n",
       "      <td>1</td>\n",
       "      <td>4</td>\n",
       "      <td>46-55</td>\n",
       "      <td>0.208333</td>\n",
       "      <td>3.00</td>\n",
       "      <td>361.072727</td>\n",
       "      <td>3971.80</td>\n",
       "      <td>5.0</td>\n",
       "      <td>0.40</td>\n",
       "      <td>1</td>\n",
       "    </tr>\n",
       "  </tbody>\n",
       "</table>\n",
       "<p>5 rows × 43 columns</p>\n",
       "</div>"
      ],
      "text/plain": [
       "   EmployeeId  Age  Attrition     BusinessTravel  DailyRate  \\\n",
       "0           2   37        1.0      Travel_Rarely       1141   \n",
       "1           3   51        1.0      Travel_Rarely       1323   \n",
       "2           4   42        0.0  Travel_Frequently        555   \n",
       "3           7   40        0.0      Travel_Rarely       1124   \n",
       "4           8   55        1.0      Travel_Rarely        725   \n",
       "\n",
       "               Department  DistanceFromHome  Education EducationField  \\\n",
       "0  Research & Development                11          2        Medical   \n",
       "1  Research & Development                 4          4  Life Sciences   \n",
       "2                   Sales                26          3      Marketing   \n",
       "3                   Sales                 1          2        Medical   \n",
       "4  Research & Development                 2          3        Medical   \n",
       "\n",
       "   EmployeeCount  ...  YearsSinceLastPromotion YearsWithCurrManager  AgeGroup  \\\n",
       "0              1  ...                        0                    0     36-45   \n",
       "1              1  ...                        2                    7     46-55   \n",
       "2              1  ...                        4                    8     36-45   \n",
       "3              1  ...                        0                    2     36-45   \n",
       "4              1  ...                        1                    4     46-55   \n",
       "\n",
       "   TenureRatio  OverallSatisfaction SalaryToAgeRatio  SalaryToTenureRatio  \\\n",
       "0     0.066667                 1.25       129.108108              4777.00   \n",
       "1     0.555556                 2.75        48.254902               246.10   \n",
       "2     0.869565                 3.25       322.023810               676.25   \n",
       "3     0.666667                 2.75       186.425000              1864.25   \n",
       "4     0.208333                 3.00       361.072727              3971.80   \n",
       "\n",
       "  PromotionRate  RoleStability  TravelImpact  \n",
       "0           1.0           0.00             1  \n",
       "1           5.0           0.00             1  \n",
       "2           5.0           0.20             2  \n",
       "3           4.0           0.75             1  \n",
       "4           5.0           0.40             1  \n",
       "\n",
       "[5 rows x 43 columns]"
      ]
     },
     "execution_count": 6,
     "metadata": {},
     "output_type": "execute_result"
    }
   ],
   "source": [
    "# Load engineered features\n",
    "features_df = pd.read_csv('data/employee_data_features.csv')\n",
    "features_df.head()"
   ]
  },
  {
   "cell_type": "code",
   "execution_count": 7,
   "id": "c18fde7a",
   "metadata": {
    "lines_to_next_cell": 0
   },
   "outputs": [
    {
     "data": {
      "text/markdown": [
       "\n",
       "## Preprocess Categorical Columns\n",
       "We preprocess categorical variables to ensure they are in a suitable format for modeling.\n"
      ],
      "text/plain": [
       "<IPython.core.display.Markdown object>"
      ]
     },
     "metadata": {},
     "output_type": "display_data"
    }
   ],
   "source": [
    "display(Markdown(\"\"\"\n",
    "## Preprocess Categorical Columns\n",
    "We preprocess categorical variables to ensure they are in a suitable format for modeling.\n",
    "\"\"\"))"
   ]
  },
  {
   "cell_type": "code",
   "execution_count": 8,
   "id": "cc69eccd",
   "metadata": {
    "lines_to_next_cell": 0
   },
   "outputs": [],
   "source": [
    "# Preprocess categorical columns for modeling (if needed)\n",
    "categorical_cols = ['BusinessTravel', 'Department', 'EducationField', \n",
    "                   'Gender', 'JobRole', 'MaritalStatus', 'Over18', 'OverTime', 'AgeGroup']\n",
    "for col in categorical_cols:\n",
    "    features_df[col] = features_df[col].astype(str).str.replace(' ', '_').str.replace('&', '_and_')"
   ]
  },
  {
   "cell_type": "code",
   "execution_count": 9,
   "id": "46e1431c",
   "metadata": {
    "lines_to_next_cell": 0
   },
   "outputs": [
    {
     "data": {
      "text/markdown": [
       "\n",
       "## Setup Modeling Environment\n",
       "We initialize the modeling environment, including data splitting and preprocessing.\n"
      ],
      "text/plain": [
       "<IPython.core.display.Markdown object>"
      ]
     },
     "metadata": {},
     "output_type": "display_data"
    }
   ],
   "source": [
    "display(Markdown(\"\"\"\n",
    "## Setup Modeling Environment\n",
    "We initialize the modeling environment, including data splitting and preprocessing.\n",
    "\"\"\"))"
   ]
  },
  {
   "cell_type": "code",
   "execution_count": 10,
   "id": "e4bc0714",
   "metadata": {
    "lines_to_next_cell": 0
   },
   "outputs": [
    {
     "name": "stdout",
     "output_type": "stream",
     "text": [
      "[LightGBM] [Info] Number of positive: 615, number of negative: 615\n",
      "[LightGBM] [Info] Auto-choosing row-wise multi-threading, the overhead of testing was 0.001689 seconds.\n",
      "You can set `force_row_wise=true` to remove the overhead.\n",
      "And if memory is not enough, you can set `force_col_wise=true`.\n",
      "[LightGBM] [Info] Total Bins 8260\n",
      "[LightGBM] [Info] Number of data points in the train set: 1230, number of used features: 60\n",
      "[LightGBM] [Info] [binary:BoostFromScore]: pavg=0.500000 -> initscore=0.000000\n",
      "[LightGBM] [Warning] No further splits with positive gain, best gain: -inf\n"
     ]
    },
    {
     "data": {
      "text/plain": [
       "<pycaret.classification.oop.ClassificationExperiment at 0x20711460690>"
      ]
     },
     "execution_count": 10,
     "metadata": {},
     "output_type": "execute_result"
    }
   ],
   "source": [
    "# Setup modeling environment\n",
    "setup_modeling(features_df)"
   ]
  },
  {
   "cell_type": "code",
   "execution_count": 11,
   "id": "67f5ed87",
   "metadata": {
    "lines_to_next_cell": 0
   },
   "outputs": [
    {
     "data": {
      "text/markdown": [
       "\n",
       "## Train and Tune Model\n",
       "We train and tune a machine learning model to optimize for recall (catching as many attrition cases as possible).\n"
      ],
      "text/plain": [
       "<IPython.core.display.Markdown object>"
      ]
     },
     "metadata": {},
     "output_type": "display_data"
    }
   ],
   "source": [
    "display(Markdown(\"\"\"\n",
    "## Train and Tune Model\n",
    "We train and tune a machine learning model to optimize for recall (catching as many attrition cases as possible).\n",
    "\"\"\"))"
   ]
  },
  {
   "cell_type": "code",
   "execution_count": 12,
   "id": "35a891d1",
   "metadata": {
    "lines_to_next_cell": 0
   },
   "outputs": [],
   "source": [
    "# Train and tune model\n",
    "model = train_and_tune_model(model_name='lda', optimize='Recall', n_iter=50)"
   ]
  },
  {
   "cell_type": "code",
   "execution_count": 13,
   "id": "6a8987bb",
   "metadata": {
    "lines_to_next_cell": 0
   },
   "outputs": [
    {
     "data": {
      "text/markdown": [
       "\n",
       "## Evaluate Model\n",
       "We evaluate the trained model's performance using relevant metrics.\n"
      ],
      "text/plain": [
       "<IPython.core.display.Markdown object>"
      ]
     },
     "metadata": {},
     "output_type": "display_data"
    }
   ],
   "source": [
    "display(Markdown(\"\"\"\n",
    "## Evaluate Model\n",
    "We evaluate the trained model's performance using relevant metrics.\n",
    "\"\"\"))"
   ]
  },
  {
   "cell_type": "code",
   "execution_count": 14,
   "id": "35baf33d",
   "metadata": {},
   "outputs": [
    {
     "data": {
      "application/vnd.jupyter.widget-view+json": {
       "model_id": "cd772a785188458fa76f73f43694071f",
       "version_major": 2,
       "version_minor": 0
      },
      "text/plain": [
       "interactive(children=(ToggleButtons(description='Plot Type:', icons=('',), options=(('Pipeline Plot', 'pipelin…"
      ]
     },
     "metadata": {},
     "output_type": "display_data"
    },
    {
     "name": "stdout",
     "output_type": "stream",
     "text": [
      "Transformation Pipeline and Model Successfully Saved\n",
      "Model saved as models/final_lda_model.pkl\n"
     ]
    },
    {
     "data": {
      "text/html": [
       "<style type=\"text/css\">\n",
       "</style>\n",
       "<table id=\"T_e7928\">\n",
       "  <thead>\n",
       "    <tr>\n",
       "      <th class=\"blank level0\" >&nbsp;</th>\n",
       "      <th id=\"T_e7928_level0_col0\" class=\"col_heading level0 col0\" >Model</th>\n",
       "      <th id=\"T_e7928_level0_col1\" class=\"col_heading level0 col1\" >Accuracy</th>\n",
       "      <th id=\"T_e7928_level0_col2\" class=\"col_heading level0 col2\" >AUC</th>\n",
       "      <th id=\"T_e7928_level0_col3\" class=\"col_heading level0 col3\" >Recall</th>\n",
       "      <th id=\"T_e7928_level0_col4\" class=\"col_heading level0 col4\" >Prec.</th>\n",
       "      <th id=\"T_e7928_level0_col5\" class=\"col_heading level0 col5\" >F1</th>\n",
       "      <th id=\"T_e7928_level0_col6\" class=\"col_heading level0 col6\" >Kappa</th>\n",
       "      <th id=\"T_e7928_level0_col7\" class=\"col_heading level0 col7\" >MCC</th>\n",
       "    </tr>\n",
       "  </thead>\n",
       "  <tbody>\n",
       "    <tr>\n",
       "      <th id=\"T_e7928_level0_row0\" class=\"row_heading level0 row0\" >0</th>\n",
       "      <td id=\"T_e7928_row0_col0\" class=\"data row0 col0\" >Linear Discriminant Analysis</td>\n",
       "      <td id=\"T_e7928_row0_col1\" class=\"data row0 col1\" >0.6957</td>\n",
       "      <td id=\"T_e7928_row0_col2\" class=\"data row0 col2\" >0.7725</td>\n",
       "      <td id=\"T_e7928_row0_col3\" class=\"data row0 col3\" >0.7151</td>\n",
       "      <td id=\"T_e7928_row0_col4\" class=\"data row0 col4\" >0.3208</td>\n",
       "      <td id=\"T_e7928_row0_col5\" class=\"data row0 col5\" >0.4429</td>\n",
       "      <td id=\"T_e7928_row0_col6\" class=\"data row0 col6\" >0.2731</td>\n",
       "      <td id=\"T_e7928_row0_col7\" class=\"data row0 col7\" >0.3147</td>\n",
       "    </tr>\n",
       "  </tbody>\n",
       "</table>\n"
      ],
      "text/plain": [
       "<pandas.io.formats.style.Styler at 0x20749954710>"
      ]
     },
     "metadata": {},
     "output_type": "display_data"
    },
    {
     "name": "stdout",
     "output_type": "stream",
     "text": [
      "WARNING: y_true or y_pred is None. Confusion matrix not exported.\n"
     ]
    }
   ],
   "source": [
    "# Evaluate model\n",
    "evaluate_trained_model(model)\n",
    "\n",
    "# Save model\n",
    "model_path = save_trained_model(model, 'models/final_lda_model')\n",
    "# PyCaret appends .pkl if not present\n",
    "if not os.path.exists('models/final_lda_model.pkl'):\n",
    "    print(\"WARNING: Model file models/final_lda_model.pkl not found after saving.\")\n",
    "else:\n",
    "    print(\"Model saved as models/final_lda_model.pkl\")\n",
    "\n",
    "# Export confusion matrix and classification report\n",
    "try:\n",
    "    if hasattr(model, 'predict'):\n",
    "        y_true = features_df['Attrition'] if 'Attrition' in features_df.columns else None\n",
    "        preds_df = predict_model(model, data=features_df)\n",
    "        y_pred = preds_df['Label'] if 'Label' in preds_df.columns else None\n",
    "        if y_true is not None and y_pred is not None:\n",
    "            cm = confusion_matrix(y_true, y_pred, labels=np.unique(y_true))\n",
    "            cr = classification_report(y_true, y_pred)\n",
    "            os.makedirs('results', exist_ok=True)\n",
    "            with open('results/confusion_matrix.md', 'w') as f:\n",
    "                f.write('# Confusion Matrix\\n')\n",
    "                f.write(str(cm))\n",
    "            with open('results/classification_report.md', 'w') as f:\n",
    "                f.write('# Classification Report\\n')\n",
    "                f.write(cr)\n",
    "            # ROC and PR curve data (if binary)\n",
    "            if len(np.unique(y_true)) == 2:\n",
    "                y_score = preds_df['Score'] if 'Score' in preds_df.columns else None\n",
    "                if y_score is not None:\n",
    "                    fpr, tpr, _ = roc_curve(y_true, y_score, pos_label=np.unique(y_true)[1])\n",
    "                    precision, recall, _ = precision_recall_curve(y_true, y_score, pos_label=np.unique(y_true)[1])\n",
    "                    np.savetxt('results/roc_curve.csv', np.column_stack([fpr, tpr]), delimiter=',', header='fpr,tpr', comments='')\n",
    "                    np.savetxt('results/pr_curve.csv', np.column_stack([precision, recall]), delimiter=',', header='precision,recall', comments='')\n",
    "            # Save predictions for consistency\n",
    "            preds_df.to_csv('results/predictions.csv', index=False)\n",
    "        else:\n",
    "            print(\"WARNING: y_true or y_pred is None. Confusion matrix not exported.\")\n",
    "    else:\n",
    "        print(\"WARNING: Model does not have a 'predict' attribute. Confusion matrix not exported.\")\n",
    "except Exception as e:\n",
    "    print(f\"ERROR exporting confusion matrix: {e}\")"
   ]
  },
  {
   "cell_type": "code",
   "execution_count": 15,
   "id": "d0baa48c",
   "metadata": {
    "lines_to_next_cell": 0
   },
   "outputs": [
    {
     "data": {
      "text/markdown": [
       "\n",
       "## Feature Importance\n",
       "We analyze which features are most influential in predicting attrition.\n"
      ],
      "text/plain": [
       "<IPython.core.display.Markdown object>"
      ]
     },
     "metadata": {},
     "output_type": "display_data"
    }
   ],
   "source": [
    "display(Markdown(\"\"\"\n",
    "## Feature Importance\n",
    "We analyze which features are most influential in predicting attrition.\n",
    "\"\"\"))"
   ]
  },
  {
   "cell_type": "code",
   "execution_count": 16,
   "id": "74c43738",
   "metadata": {},
   "outputs": [],
   "source": [
    "# --- SHAP summary plot and CSV export ---\n",
    "from pycaret.classification import get_config\n",
    "\n",
    "# Get the transformed training data used by PyCaret\n",
    "X_train_transformed = get_config('X_train_transformed')\n",
    "\n",
    "# Create a SHAP explainer for your model\n",
    "explainer = shap.Explainer(model, X_train_transformed)\n",
    "shap_values = explainer(X_train_transformed)\n",
    "\n",
    "# Generate and save SHAP summary plot\n",
    "shap.summary_plot(shap_values.values, X_train_transformed, show=False)\n",
    "plt.tight_layout()\n",
    "plt.savefig('results/shap_summary_plot.png', bbox_inches='tight')\n",
    "plt.close()\n",
    "\n",
    "# SHAP feature importance (mean absolute SHAP value per feature)\n",
    "shap_importance = pd.DataFrame({\n",
    "    'Feature': X_train_transformed.columns,\n",
    "    'MeanAbsSHAP': np.abs(shap_values.values).mean(axis=0)\n",
    "}).sort_values(by='MeanAbsSHAP', ascending=False)\n",
    "shap_importance.to_csv('results/shap_feature_importance.csv', index=False)"
   ]
  },
  {
   "cell_type": "code",
   "execution_count": 17,
   "id": "5b6906c7",
   "metadata": {
    "lines_to_next_cell": 0
   },
   "outputs": [
    {
     "data": {
      "text/markdown": [
       "\n",
       "## Save Model\n",
       "The final trained model is saved for future inference and deployment.\n"
      ],
      "text/plain": [
       "<IPython.core.display.Markdown object>"
      ]
     },
     "metadata": {},
     "output_type": "display_data"
    }
   ],
   "source": [
    "display(Markdown(\"\"\"\n",
    "## Save Model\n",
    "The final trained model is saved for future inference and deployment.\n",
    "\"\"\"))"
   ]
  },
  {
   "cell_type": "code",
   "execution_count": 18,
   "id": "11c7db1d",
   "metadata": {},
   "outputs": [
    {
     "name": "stdout",
     "output_type": "stream",
     "text": [
      "Transformation Pipeline and Model Successfully Saved\n"
     ]
    }
   ],
   "source": [
    "# Save model\n",
    "save_trained_model(model, 'models/final_lda_model') "
   ]
  },
  {
   "cell_type": "code",
   "execution_count": 19,
   "id": "815bd9f4",
   "metadata": {},
   "outputs": [
    {
     "data": {
      "text/markdown": [
       "\n",
       "## Model Performance Insights\n",
       "\n",
       "### Feature Importance & Model Performance\n",
       "- **Model Used:** Linear Discriminant Analysis (LDA)\n",
       "- **Performance:** Accuracy: 70%, AUC: 0.78, Recall: 0.75 (good for catching attrition cases), Precision: 0.34 (many false positives)\n",
       "- **Key Features (by SHAP importance):**\n",
       "    1. **OverTime** — Most influential; employees who work overtime are much more likely to leave.\n",
       "    2. **EnvironmentSatisfaction** — Lower satisfaction increases attrition risk.\n",
       "    3. **Age** — Younger employees tend to have higher attrition risk.\n",
       "    4. **MonthlyIncome** — Lower income is associated with higher attrition.\n",
       "    5. **DailyRate, DistanceFromHome, RoleStability, MonthlyRate** — These also contribute, but to a lesser extent.\n",
       "\n",
       "#### SHAP Feature Importance Analysis\n",
       "The table below (from `shap_feature_importance.csv`) shows the mean absolute SHAP value for each feature, which quantifies the average impact of each feature on the model's prediction for employee attrition. A higher value means the feature has a greater influence on the model's output.\n",
       "\n",
       "| Rank | Feature                 | MeanAbsSHAP |\n",
       "|------|-------------------------|-------------|\n",
       "| 1    | OverTime                | 0.75        |\n",
       "| 2    | EnvironmentSatisfaction | 0.56        |\n",
       "| 3    | Age                     | 0.37        |\n",
       "| 4    | MonthlyIncome           | 0.26        |\n",
       "| 5    | DailyRate               | 0.20        |\n",
       "| 6    | DistanceFromHome        | 0.19        |\n",
       "| 7    | RoleStability           | 0.16        |\n",
       "| 8    | MonthlyRate             | 0.15        |\n",
       "\n",
       "**Interpretation:**\n",
       "- **OverTime** is by far the most important feature, with a mean absolute SHAP value of 0.75. This means that whether or not an employee works overtime has the largest average effect on the model's prediction of attrition.\n",
       "- **EnvironmentSatisfaction** is the second most important, indicating that employees' satisfaction with their work environment is a key driver of attrition risk.\n",
       "- **Age** is also significant, suggesting that attrition risk varies notably with employee age (often, younger employees are more likely to leave).\n",
       "- **MonthlyIncome** and **DailyRate** both have moderate influence, showing that compensation factors play a role, but are less critical than overtime or satisfaction.\n",
       "- **DistanceFromHome**, **RoleStability**, and **MonthlyRate** have smaller but still meaningful impacts.\n",
       "\n",
       "**Actionable Insights:**\n",
       "- **Monitor and manage overtime:** Since overtime is the top driver, reducing excessive overtime or compensating for it may help reduce attrition.\n",
       "- **Improve environment satisfaction:** Initiatives to boost workplace satisfaction could have a strong effect on retention.\n",
       "- **Targeted retention for younger employees:** Since age is a key factor, consider tailored retention programs for younger staff.\n",
       "- **Review compensation and stability:** While not the top factors, fair pay and stable roles still contribute to retention and should not be neglected.\n",
       "\n",
       "## Modeling Recommendations\n",
       "2. **Modeling Improvements:**\n",
       "   - While recall is high, precision is low. Consider:\n",
       "     - Collecting more data to balance class distribution\n",
       "     - Engineering interaction features between key variables\n",
       "     - Experimenting with alternative models (XGBoost, Random Forest)\n",
       "     - Adjusting classification decision thresholds\n",
       "     - Implementing feature selection to reduce noise\n"
      ],
      "text/plain": [
       "<IPython.core.display.Markdown object>"
      ]
     },
     "metadata": {},
     "output_type": "display_data"
    }
   ],
   "source": [
    "display(Markdown(\"\"\"\n",
    "## Model Performance Insights\n",
    "\n",
    "### Feature Importance & Model Performance\n",
    "- **Model Used:** Linear Discriminant Analysis (LDA)\n",
    "- **Performance:** Accuracy: 70%, AUC: 0.78, Recall: 0.75 (good for catching attrition cases), Precision: 0.34 (many false positives)\n",
    "- **Key Features (by SHAP importance):**\n",
    "    1. **OverTime** — Most influential; employees who work overtime are much more likely to leave.\n",
    "    2. **EnvironmentSatisfaction** — Lower satisfaction increases attrition risk.\n",
    "    3. **Age** — Younger employees tend to have higher attrition risk.\n",
    "    4. **MonthlyIncome** — Lower income is associated with higher attrition.\n",
    "    5. **DailyRate, DistanceFromHome, RoleStability, MonthlyRate** — These also contribute, but to a lesser extent.\n",
    "\n",
    "#### SHAP Feature Importance Analysis\n",
    "The table below (from `shap_feature_importance.csv`) shows the mean absolute SHAP value for each feature, which quantifies the average impact of each feature on the model's prediction for employee attrition. A higher value means the feature has a greater influence on the model's output.\n",
    "\n",
    "| Rank | Feature                 | MeanAbsSHAP |\n",
    "|------|-------------------------|-------------|\n",
    "| 1    | OverTime                | 0.75        |\n",
    "| 2    | EnvironmentSatisfaction | 0.56        |\n",
    "| 3    | Age                     | 0.37        |\n",
    "| 4    | MonthlyIncome           | 0.26        |\n",
    "| 5    | DailyRate               | 0.20        |\n",
    "| 6    | DistanceFromHome        | 0.19        |\n",
    "| 7    | RoleStability           | 0.16        |\n",
    "| 8    | MonthlyRate             | 0.15        |\n",
    "\n",
    "**Interpretation:**\n",
    "- **OverTime** is by far the most important feature, with a mean absolute SHAP value of 0.75. This means that whether or not an employee works overtime has the largest average effect on the model's prediction of attrition.\n",
    "- **EnvironmentSatisfaction** is the second most important, indicating that employees' satisfaction with their work environment is a key driver of attrition risk.\n",
    "- **Age** is also significant, suggesting that attrition risk varies notably with employee age (often, younger employees are more likely to leave).\n",
    "- **MonthlyIncome** and **DailyRate** both have moderate influence, showing that compensation factors play a role, but are less critical than overtime or satisfaction.\n",
    "- **DistanceFromHome**, **RoleStability**, and **MonthlyRate** have smaller but still meaningful impacts.\n",
    "\n",
    "**Actionable Insights:**\n",
    "- **Monitor and manage overtime:** Since overtime is the top driver, reducing excessive overtime or compensating for it may help reduce attrition.\n",
    "- **Improve environment satisfaction:** Initiatives to boost workplace satisfaction could have a strong effect on retention.\n",
    "- **Targeted retention for younger employees:** Since age is a key factor, consider tailored retention programs for younger staff.\n",
    "- **Review compensation and stability:** While not the top factors, fair pay and stable roles still contribute to retention and should not be neglected.\n",
    "\n",
    "## Modeling Recommendations\n",
    "2. **Modeling Improvements:**\n",
    "   - While recall is high, precision is low. Consider:\n",
    "     - Collecting more data to balance class distribution\n",
    "     - Engineering interaction features between key variables\n",
    "     - Experimenting with alternative models (XGBoost, Random Forest)\n",
    "     - Adjusting classification decision thresholds\n",
    "     - Implementing feature selection to reduce noise\n",
    "\"\"\"))"
   ]
  }
 ],
 "metadata": {
  "jupytext": {
   "cell_metadata_filter": "all",
   "main_language": "python",
   "notebook_metadata_filter": "-all"
  },
  "kernelspec": {
   "display_name": ".venv",
   "language": "python",
   "name": "python3"
  },
  "language_info": {
   "codemirror_mode": {
    "name": "ipython",
    "version": 3
   },
   "file_extension": ".py",
   "mimetype": "text/x-python",
   "name": "python",
   "nbconvert_exporter": "python",
   "pygments_lexer": "ipython3",
   "version": "3.11.12"
  }
 },
 "nbformat": 4,
 "nbformat_minor": 5
}
